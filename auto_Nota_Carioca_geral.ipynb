{
 "cells": [
  {
   "cell_type": "markdown",
   "id": "7700c3b1",
   "metadata": {},
   "source": [
    "## Código para emissao NF"
   ]
  },
  {
   "cell_type": "code",
   "execution_count": 42,
   "id": "97df1b73",
   "metadata": {},
   "outputs": [],
   "source": [
    "from selenium import webdriver\n",
    "import time\n",
    "import pandas as pd\n",
    "\n",
    "tabela = pd.read_excel(\"Emitir_NF.xlsx\") #inserir arquivo de base de onde as informações serao coletadas\n",
    "\n",
    "navegador = webdriver.Chrome() #abrir navegador\n",
    "navegador.get (\"https://notacarioca.rio.gov.br/senhaweb/login.aspx\") #entrar no site de nota\n",
    "navegador.find_element('xpath','//*[@id=\"ctl00_cphCabMenu_tbCpfCnpj\"]').send_keys(\"01.234.567/890-00\")#inserir CNPJ da empresa\n",
    "navegador.find_element('xpath','//*[@id=\"ctl00_cphCabMenu_tbSenha\"]').send_keys(\"senha\")#inserir senha do login\n",
    "time.sleep(20) #login\n",
    "navegador.find_element('xpath','//*[@id=\"ctl00_cphCabMenu_pnEmite\"]/p/a[1]/strong').click()\n",
    "\n",
    "for i, cpf in enumerate(tabela[\"CPF/CNPJ\"]):\n",
    "    cpf = str(cpf).rjust(11, '0')\n",
    "    email = tabela.loc[i, \"email\"]\n",
    "    data = format(tabela.loc[i, \"Data\"],\"%d/%m/%Y\")\n",
    "    descricao = \"SERVIÇO REALIZADO NO DIA \" + data + \".\"\n",
    "    valor = str(tabela.loc[i, \"Valor\"])\n",
    "    \n",
    "    navegador.find_element('xpath','//*[@id=\"ctl00_cphCabMenu_ddlPrestador\"]/option[1]').click() #selecionar filial\n",
    "    navegador.find_element('xpath','//*[@id=\"ctl00_cphCabMenu_tbCPFCNPJTomador\"]').send_keys(cpf)\n",
    "    navegador.find_element('xpath','//*[@id=\"ctl00_cphCabMenu_btAvancar\"]').click()\n",
    "    time.sleep(1) #avança pra emissao\n",
    "    navegador.find_element('xpath',' //*[@id=\"ctl00_cphCabMenu_tbEmail\"]').send_keys(email)\n",
    "    navegador.find_element('xpath','//*[@id=\"ctl00_cphCabMenu_tbDiscriminacao\"]').send_keys(descricao)\n",
    "    time.sleep(1)\n",
    "    navegador.find_element('xpath','//*[@id=\"ctl00_cphCabMenu_tbValor\"]').send_keys(valor)\n",
    "    navegador.find_element('xpath','//*[@id=\"ctl00_cphCabMenu_btEmitir\"]').click()\n",
    "    time.sleep(1)\n",
    "    navegador.switch_to.alert.accept()\n",
    "    navegador.find_element('xpath','//*[@id=\"ctl00_cphBase_btVoltar\"]').click()\n",
    "   "
   ]
  },
  {
   "cell_type": "code",
   "execution_count": null,
   "id": "9b9f446c",
   "metadata": {},
   "outputs": [],
   "source": []
  }
 ],
 "metadata": {
  "kernelspec": {
   "display_name": "Python 3 (ipykernel)",
   "language": "python",
   "name": "python3"
  },
  "language_info": {
   "codemirror_mode": {
    "name": "ipython",
    "version": 3
   },
   "file_extension": ".py",
   "mimetype": "text/x-python",
   "name": "python",
   "nbconvert_exporter": "python",
   "pygments_lexer": "ipython3",
   "version": "3.9.12"
  }
 },
 "nbformat": 4,
 "nbformat_minor": 5
}
